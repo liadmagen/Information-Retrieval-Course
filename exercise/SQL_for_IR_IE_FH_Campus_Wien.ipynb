{
  "cells": [
    {
      "cell_type": "markdown",
      "metadata": {
        "id": "Q_2PdPMpbboQ"
      },
      "source": [
        "# SQL For IR/IE\n"
      ]
    },
    {
      "cell_type": "markdown",
      "metadata": {
        "id": "LP8AT6pVbhAF"
      },
      "source": [
        "## Setup\n"
      ]
    },
    {
      "cell_type": "code",
      "execution_count": 2,
      "metadata": {
        "id": "PA220ye3XGR3"
      },
      "outputs": [],
      "source": [
        "import sqlite3"
      ]
    },
    {
      "cell_type": "markdown",
      "metadata": {
        "id": "UKGoITJOYt7G"
      },
      "source": [
        "In python, you can use the `sqlite` database as a simple, fixed file.\n",
        "Here is how you can 'connect' to that file:\n"
      ]
    },
    {
      "cell_type": "code",
      "execution_count": 3,
      "metadata": {
        "id": "fqCvNxWpXE-4"
      },
      "outputs": [],
      "source": [
        "# con = sqlite3.connect('content/database.sqlite')\n",
        "\n",
        "# conn.execute('''\n",
        "# CREATE TABLE Departments (\n",
        "#    Code INTEGER PRIMARY KEY NOT NULL,\n",
        "#    Name NVARCHAR NOT NULL ,\n",
        "#    Budget REAL NOT NULL\n",
        "#  );''')\n",
        "\n",
        "# conn.commit()\n"
      ]
    },
    {
      "cell_type": "markdown",
      "metadata": {
        "id": "4kCEH9oXY0HM"
      },
      "source": [
        "If you are usinf Google Colab, you can use its internal SQL instead:\n"
      ]
    },
    {
      "cell_type": "code",
      "execution_count": null,
      "metadata": {
        "id": "Jf9A4jaaXOUx"
      },
      "outputs": [],
      "source": [
        "%load_ext sql"
      ]
    },
    {
      "cell_type": "code",
      "execution_count": 8,
      "metadata": {
        "colab": {
          "base_uri": "https://localhost:8080/",
          "height": 35
        },
        "id": "kpeXJ0nlXecg",
        "outputId": "f12e9606-f2d3-483d-cdfe-074b8499fd94"
      },
      "outputs": [
        {
          "data": {
            "application/vnd.google.colaboratory.intrinsic+json": {
              "type": "string"
            },
            "text/plain": [
              "'Connected: @demo.db'"
            ]
          },
          "execution_count": 8,
          "metadata": {},
          "output_type": "execute_result"
        }
      ],
      "source": [
        "%%sql\n",
        "sqlite:///demo.db"
      ]
    },
    {
      "cell_type": "markdown",
      "metadata": {
        "id": "W2Dzhj9abjjY"
      },
      "source": [
        "## Question-set #1\n"
      ]
    },
    {
      "cell_type": "markdown",
      "metadata": {
        "id": "27SaR_CMaZrp"
      },
      "source": [
        "Refresh your memory:\n",
        "\n",
        "- What is the syntax to create a new table?\n"
      ]
    },
    {
      "cell_type": "markdown",
      "metadata": {
        "id": "zFcavSbwD-7O"
      },
      "source": [
        "- Which column types are you familiar with? Can you name at least 5?\n"
      ]
    },
    {
      "cell_type": "markdown",
      "metadata": {
        "id": "q2jzyHSoD-Z0"
      },
      "source": [
        "---\n",
        "\n",
        "- What is the syntax to query from a table?\n"
      ]
    },
    {
      "cell_type": "markdown",
      "metadata": {
        "id": "vml_WcBjEK14"
      },
      "source": [
        "- What is the syntax to approximate a string search (with wild cards)?\n",
        "\n",
        "For example, given the following `posting` table:\n",
        "\n",
        "| ID  | Post  |\n",
        "| --- | ----- |\n",
        "| 4   | pink  |\n",
        "| 6   | ink   |\n",
        "| 11  | drink |\n",
        "| 13  | link  |\n",
        "| 15  | minsk |\n",
        "| 22  | sink  |\n",
        "| 34  | think |\n",
        "| 39  | sing  |\n",
        "\n",
        "- How can you return posting ends with `ink`? \n",
        "- What about posting that starts with `s`?\n"
      ]
    },
    {
      "cell_type": "markdown",
      "metadata": {
        "id": "fiPTKtZYELz6"
      },
      "source": [
        "- Given the `posting` table above, how would you return postings that start with `S` AND end with `k`?\n"
      ]
    },
    {
      "cell_type": "markdown",
      "metadata": {
        "id": "_-YUan2Vbydy"
      },
      "source": [
        "---\n",
        "\n",
        "Can't reacall? Here's a link to assist you:\n",
        "\n",
        "https://sqlzoo.net/wiki/SQL_Tutorial\n"
      ]
    },
    {
      "cell_type": "markdown",
      "metadata": {
        "id": "qcD0KMlbbnof"
      },
      "source": [
        "## Question-Set #2\n"
      ]
    },
    {
      "cell_type": "markdown",
      "metadata": {
        "id": "X13X0LoMbIeI"
      },
      "source": [
        "MySQL // Sql Server // Oracle are all relational database management systems (RDBMS).\n",
        "\n",
        "What does it mean?\n"
      ]
    },
    {
      "cell_type": "markdown",
      "metadata": {
        "id": "jrcABqKCKg4Z"
      },
      "source": [
        "- What is the syntax to enter new values (rows) into a table?\n"
      ]
    },
    {
      "cell_type": "markdown",
      "metadata": {
        "id": "2mhjMjMyKfqx"
      },
      "source": [
        "- How can one create relations between tables when creating a table? What do these relations mean? How can they be enforced?\n"
      ]
    },
    {
      "cell_type": "markdown",
      "metadata": {
        "id": "8KNl7fY-KhyH"
      },
      "source": [
        "- If a table has a relation to other tables, how would it affect the insertion process?\n"
      ]
    },
    {
      "cell_type": "markdown",
      "metadata": {
        "id": "Xz19DYXmKjHr"
      },
      "source": [
        "- How can one use these relations when performing a query? What is the syntax? What happens behind the scenes?\n"
      ]
    },
    {
      "cell_type": "markdown",
      "metadata": {
        "id": "fhSyM22AKdLI"
      },
      "source": [
        "- What is the syntax to perform a boolean search?\n",
        "\n",
        "Given this additional table:\n",
        "\n",
        "| DocID | PostingID    | \n",
        "| ----- | ------------ |\n",
        "| 1     | 4 |  \n",
        "| 2     | 4 |"
      ]
    },
    {
      "cell_type": "markdown",
      "metadata": {
        "id": "hufejZxFbGV5"
      },
      "source": [
        "---\n"
      ]
    },
    {
      "cell_type": "markdown",
      "metadata": {
        "id": "2wfV_OiEbtzV"
      },
      "source": [
        "## Question-Set #3\n"
      ]
    },
    {
      "cell_type": "markdown",
      "metadata": {
        "id": "XBU0XhwOY7hP"
      },
      "source": [
        "Remember: Every query must preceed with a `%%sql` directive.\n",
        "\n",
        "Here's how we can create a simple table, insert data to it, and query it:\n"
      ]
    },
    {
      "cell_type": "code",
      "execution_count": null,
      "metadata": {
        "colab": {
          "base_uri": "https://localhost:8080/",
          "height": 153
        },
        "id": "w_sg6siSXmn6",
        "outputId": "07b1157a-1b56-43ec-ea4f-9e0f3e55ba4d"
      },
      "outputs": [
        {
          "name": "stdout",
          "output_type": "stream",
          "text": [
            " * sqlite:///demo.db\n",
            "Done.\n",
            "2 rows affected.\n",
            "Done.\n"
          ]
        },
        {
          "data": {
            "text/html": [
              "<table>\n",
              "    <thead>\n",
              "        <tr>\n",
              "            <th>column_1</th>\n",
              "            <th>column_2</th>\n",
              "        </tr>\n",
              "    </thead>\n",
              "    <tbody>\n",
              "        <tr>\n",
              "            <td>1</td>\n",
              "            <td>abc</td>\n",
              "        </tr>\n",
              "        <tr>\n",
              "            <td>2</td>\n",
              "            <td>abcd</td>\n",
              "        </tr>\n",
              "    </tbody>\n",
              "</table>"
            ],
            "text/plain": [
              "[(1, 'abc'), (2, 'abcd')]"
            ]
          },
          "execution_count": 4,
          "metadata": {},
          "output_type": "execute_result"
        }
      ],
      "source": [
        "%%sql\n",
        "create table sample(column_1 int, column_2 varchar);\n",
        "insert into sample values (1,'abc'),(2,'abcd');\n",
        "select * from sample;"
      ]
    },
    {
      "cell_type": "markdown",
      "metadata": {
        "id": "pMmOEw0RZDF4"
      },
      "source": [
        "**Your turn:**\n",
        "Create an index table for _keywords_.\n",
        "\n",
        "Include the following columns:\n",
        "\n",
        "- Document ID (integer)\n",
        "- Document title (text)\n",
        "- document content (text)\n",
        "- document URL (text) --> Optional\n",
        "- Term posting list... ???\n",
        "\n",
        "... Discuss: How should you create the term posting list?\n",
        "\n",
        "Note: Always ensure your table(s) have a _primary key_ column.\n"
      ]
    },
    {
      "cell_type": "code",
      "execution_count": null,
      "metadata": {
        "colab": {
          "base_uri": "https://localhost:8080/"
        },
        "id": "TsSfmD2RZBWn",
        "outputId": "58f21560-ce98-4771-849c-725baa4c0798"
      },
      "outputs": [
        {
          "name": "stdout",
          "output_type": "stream",
          "text": [
            " * sqlite:///demo.db\n",
            "(sqlite3.OperationalError) unrecognized token: \"#\"\n",
            "[SQL: ## WRITE YOUR CODE HERE]\n",
            "(Background on this error at: https://sqlalche.me/e/14/e3q8)\n"
          ]
        }
      ],
      "source": [
        "%%sql\n",
        "## WRITE YOUR CODE HERE"
      ]
    },
    {
      "cell_type": "markdown",
      "metadata": {
        "id": "kl1q5wgAdeWB"
      },
      "source": [
        "## Question-set #4\n"
      ]
    },
    {
      "cell_type": "markdown",
      "metadata": {
        "id": "Aku1xEKRZ64Z"
      },
      "source": [
        "Add a table to track the queries and their response (positive/negative).\n",
        "It should include the following columns:\n",
        "\n",
        "- ID (integer)\n",
        "- query text (Text)\n",
        "- query results (array of integers)\n",
        "- query feedback (boolean)\n",
        "\n",
        "What is the best way to represent the results?\n"
      ]
    },
    {
      "cell_type": "code",
      "execution_count": null,
      "metadata": {
        "id": "vLmAuOlwdD0n"
      },
      "outputs": [],
      "source": [
        "%%sql\n",
        "## WRITE YOUR CODE HERE"
      ]
    },
    {
      "cell_type": "markdown",
      "metadata": {
        "id": "MSlyvQqBdoOC"
      },
      "source": [
        "## Question-set #5\n"
      ]
    },
    {
      "cell_type": "markdown",
      "metadata": {
        "id": "X_b5s37keZUn"
      },
      "source": [
        "If you have implemented the term-posting list as a column array, let's change it into separate tables. Our database should include the following columns:\n",
        "\n",
        "- doc id (numeric)\n",
        "- doc text (text)\n",
        "\n",
        "- post term id (numeric)\n",
        "- term (text)\n",
        "- doc Id where the post term appears (numeric)\n",
        "- start position (numeric)\n",
        "\n",
        "In SQLite, we don't have an array column. Instead, we use table-rows as arrays.\n"
      ]
    },
    {
      "cell_type": "markdown",
      "metadata": {
        "id": "4I-RwSfZlNzY"
      },
      "source": [
        "- Try separating that task into different tables, representing the arrays. What would the table scheme look like?\n",
        "- What would the context representation of the following docs and look like after you index and store them in your database:\n",
        "\n",
        "| DocID | Text                                    |\n",
        "| ----- | --------------------------------------- |\n",
        "| 1     | `I like to drink pink ink`              |\n",
        "| 2     | `I like to drink, and drink, and drink` |\n",
        "\n",
        "- Write an SQL query searching for the documents that contains `drink` and `pink`.\n"
      ]
    },
    {
      "cell_type": "code",
      "execution_count": null,
      "metadata": {
        "id": "yDMIjRIZeV-U"
      },
      "outputs": [],
      "source": [
        "%%sql\n",
        "## WRITE YOUR CODE HERE"
      ]
    },
    {
      "cell_type": "markdown",
      "metadata": {
        "id": "QLJ-FCS0DYSZ"
      },
      "source": [
        "## End-note\n",
        "\n",
        "For additional riddles and to deepenth your SQL knowhow, try this online riddle website: https://www.hackerrank.com/domains/sql or this SQL murder mystery: https://mystery.knightlab.com/\n",
        "\n",
        "Or if you want to dive deeper: https://advancedsqlpuzzles.com/\n"
      ]
    },
    {
      "cell_type": "code",
      "execution_count": null,
      "metadata": {
        "id": "6xJhaUsINi0s"
      },
      "outputs": [],
      "source": []
    }
  ],
  "metadata": {
    "colab": {
      "provenance": [],
      "toc_visible": true
    },
    "kernelspec": {
      "display_name": "Python 3",
      "name": "python3"
    },
    "language_info": {
      "codemirror_mode": {
        "name": "ipython",
        "version": 3
      },
      "file_extension": ".py",
      "mimetype": "text/x-python",
      "name": "python",
      "nbconvert_exporter": "python",
      "pygments_lexer": "ipython3",
      "version": "3.10.12"
    }
  },
  "nbformat": 4,
  "nbformat_minor": 0
}
